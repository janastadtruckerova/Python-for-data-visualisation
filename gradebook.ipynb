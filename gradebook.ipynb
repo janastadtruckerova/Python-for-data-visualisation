{
  "nbformat": 4,
  "nbformat_minor": 0,
  "metadata": {
    "colab": {
      "name": "gradebook.ipynb",
      "provenance": [],
      "authorship_tag": "ABX9TyPFNDXmtw/meEwMCQm+wxg9",
      "include_colab_link": true
    },
    "kernelspec": {
      "name": "python3",
      "display_name": "Python 3"
    },
    "language_info": {
      "name": "python"
    }
  },
  "cells": [
    {
      "cell_type": "markdown",
      "metadata": {
        "id": "view-in-github",
        "colab_type": "text"
      },
      "source": [
        "<a href=\"https://colab.research.google.com/github/janastadtruckerova/Python-for-data-visualisation/blob/main/gradebook.ipynb\" target=\"_parent\"><img src=\"https://colab.research.google.com/assets/colab-badge.svg\" alt=\"Open In Colab\"/></a>"
      ]
    },
    {
      "cell_type": "markdown",
      "source": [
        "**Gradebook**\n",
        "\n",
        "You are a student and you are trying to organize your subjects and grades using Python. Let’s explore what we’ve learned about lists to organize your subjects and scores."
      ],
      "metadata": {
        "id": "8O8dPQ8SZgpH"
      }
    },
    {
      "cell_type": "markdown",
      "source": [
        "**Create some lists**"
      ],
      "metadata": {
        "id": "6mljcVoCZ5iQ"
      }
    },
    {
      "cell_type": "code",
      "source": [
        "last_semester_gradebook = [[\"politics\", 80], [\"latin\", 96], [\"dance\", 97], [\"architecture\", 65]]\n",
        "subjects = [\"physics\", \"calculus\", \"poetry\", \"history\"]\n",
        "grades = [98, 97, 85, 88]\n",
        "gradebook = [[\"physics\", 98], [\"calculus\", 97], [\"poetry\", 85], [\"history\", 88]]\n",
        "print(gradebook)"
      ],
      "metadata": {
        "id": "X8LsDk4PZ3J2",
        "colab": {
          "base_uri": "https://localhost:8080/"
        },
        "outputId": "05e86581-1ce9-4992-dcc2-b966108aebb5"
      },
      "execution_count": 1,
      "outputs": [
        {
          "output_type": "stream",
          "name": "stdout",
          "text": [
            "[['physics', 98], ['calculus', 97], ['poetry', 85], ['history', 88]]\n"
          ]
        }
      ]
    },
    {
      "cell_type": "markdown",
      "source": [
        "**Add more subjects**"
      ],
      "metadata": {
        "id": "Muqk2fy4cA3A"
      }
    },
    {
      "cell_type": "code",
      "source": [
        "gradebook.append([\"comuputer science\",100])\n",
        "gradebook.append([\"visual arts\",93])\n",
        "\n"
      ],
      "metadata": {
        "id": "Vaev8k2YcKT-"
      },
      "execution_count": 5,
      "outputs": []
    },
    {
      "cell_type": "markdown",
      "source": [
        "**Modify The Gradebook**"
      ],
      "metadata": {
        "id": "yUZGQBlsdcsW"
      }
    },
    {
      "cell_type": "code",
      "source": [
        "gradebook[-1]\n",
        "gradebook[-1][-1]\n",
        "gradebook[2].remove(85)\n"
      ],
      "metadata": {
        "id": "hI_WRwNLdnJ7"
      },
      "execution_count": 10,
      "outputs": []
    },
    {
      "cell_type": "markdown",
      "source": [
        "**One big gradebook**"
      ],
      "metadata": {
        "id": "Qaldp48sfmp4"
      }
    },
    {
      "cell_type": "code",
      "source": [
        "full_gradebook = last_semester_gradebook + gradebook\n",
        "print(full_gradebook)\n"
      ],
      "metadata": {
        "id": "TFDc9uAsf2v2",
        "colab": {
          "base_uri": "https://localhost:8080/"
        },
        "outputId": "636e691e-134a-4806-bcd4-78c871318e15"
      },
      "execution_count": 11,
      "outputs": [
        {
          "output_type": "stream",
          "name": "stdout",
          "text": [
            "[['politics', 80], ['latin', 96], ['dance', 97], ['architecture', 65], ['physics', 98], ['calculus', 97], ['poetry'], ['history', 88], ['comuputer science', 100], ['visual arts', 93]]\n"
          ]
        }
      ]
    }
  ]
}