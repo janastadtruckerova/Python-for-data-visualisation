{
  "nbformat": 4,
  "nbformat_minor": 0,
  "metadata": {
    "colab": {
      "name": "physics class.ipynb",
      "provenance": [],
      "authorship_tag": "ABX9TyOgFnlM3vxZMVBwjnmpYjJK",
      "include_colab_link": true
    },
    "kernelspec": {
      "name": "python3",
      "display_name": "Python 3"
    },
    "language_info": {
      "name": "python"
    }
  },
  "cells": [
    {
      "cell_type": "markdown",
      "metadata": {
        "id": "view-in-github",
        "colab_type": "text"
      },
      "source": [
        "<a href=\"https://colab.research.google.com/github/janastadtruckerova/Python-for-data-visualisation/blob/main/physics_class.ipynb\" target=\"_parent\"><img src=\"https://colab.research.google.com/assets/colab-badge.svg\" alt=\"Open In Colab\"/></a>"
      ]
    },
    {
      "cell_type": "markdown",
      "source": [
        "**Getting Ready for Physics Class**\n",
        "You are a physics teacher preparing for the upcoming semester. You want to provide your students with some functions that will help them calculate some fundamental physical properties."
      ],
      "metadata": {
        "id": "5ZaXLiTn1Sma"
      }
    },
    {
      "cell_type": "markdown",
      "source": [
        "*Turn up the Temperature*"
      ],
      "metadata": {
        "id": "cKZMUGZJ1jfz"
      }
    },
    {
      "cell_type": "code",
      "source": [
        "def f_to_c(f_temp):\n",
        "  return (f_temp - 32 * 5//9)\n",
        "  f100_in_celsius = f_to_c(100)\n",
        "def c_to_f(c_temp):\n",
        "   return (c_temp * 9/5 + 32)\n",
        "c0_in_fahrenheit = c_to_f(0)\n",
        "print(c0_in_fahrenheit)\n",
        "       "
      ],
      "metadata": {
        "colab": {
          "base_uri": "https://localhost:8080/"
        },
        "id": "yxzWMWmF1sYy",
        "outputId": "dd0cc672-5895-4799-caaa-12de875789bb"
      },
      "execution_count": 2,
      "outputs": [
        {
          "output_type": "stream",
          "name": "stdout",
          "text": [
            "32.0\n"
          ]
        }
      ]
    },
    {
      "cell_type": "code",
      "source": [
        "def c_to_f(c_temp):\n",
        "   return (c_temp * 9/5 + 32)\n",
        "c0_in_fahrenheit = c_to_f(0)\n",
        "print(c0_in_fahrenheit)"
      ],
      "metadata": {
        "colab": {
          "base_uri": "https://localhost:8080/"
        },
        "id": "ls8z1DQq66ED",
        "outputId": "9fcc548b-d8b8-4afa-b980-77cc9c1e4744"
      },
      "execution_count": 6,
      "outputs": [
        {
          "output_type": "stream",
          "name": "stdout",
          "text": [
            "32.0\n"
          ]
        }
      ]
    },
    {
      "cell_type": "markdown",
      "source": [
        "*Use the force*"
      ],
      "metadata": {
        "id": "L-XW-Jt93zbm"
      }
    },
    {
      "cell_type": "code",
      "source": [
        "def get_force(mass, acceleration):\n",
        "  return mass * acceleration\n",
        "train_force = get_force(22600, 10)\n",
        "print(train_force)\n",
        "\n",
        "  "
      ],
      "metadata": {
        "colab": {
          "base_uri": "https://localhost:8080/"
        },
        "id": "7iisHA1G37VH",
        "outputId": "4372e8b8-a64f-44f4-d14f-7970d848a08b"
      },
      "execution_count": 17,
      "outputs": [
        {
          "output_type": "stream",
          "name": "stdout",
          "text": [
            "226000\n"
          ]
        }
      ]
    },
    {
      "cell_type": "markdown",
      "source": [
        "*Use energy*"
      ],
      "metadata": {
        "id": "VQ1qJU-U7PSy"
      }
    },
    {
      "cell_type": "code",
      "source": [
        "def get_energy(mass, c = 3*10**8):\n",
        "  return mass * c\n",
        "  bomb_energy = get_energy(1)\n",
        "  print(bomb_energy)"
      ],
      "metadata": {
        "id": "tTb2fgDa7iz1"
      },
      "execution_count": 29,
      "outputs": []
    },
    {
      "cell_type": "markdown",
      "source": [
        "*Use work*"
      ],
      "metadata": {
        "id": "3n1QVqLn8F9l"
      }
    },
    {
      "cell_type": "code",
      "source": [
        "def get_work(mass, acceleration, distance):\n",
        "  return get_force(mass,acceleration)*distance\n",
        "train_work =  get_work(22680,10,100)\n",
        "print(train_work)"
      ],
      "metadata": {
        "colab": {
          "base_uri": "https://localhost:8080/"
        },
        "id": "zauC3qJo8KU7",
        "outputId": "33c8f80c-1b38-45f9-e4f3-b4e92b6dcf03"
      },
      "execution_count": 16,
      "outputs": [
        {
          "output_type": "stream",
          "name": "stdout",
          "text": [
            "22680000\n"
          ]
        }
      ]
    }
  ]
}