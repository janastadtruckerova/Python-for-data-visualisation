{
  "nbformat": 4,
  "nbformat_minor": 0,
  "metadata": {
    "colab": {
      "name": "receipts.ipynb",
      "provenance": [],
      "authorship_tag": "ABX9TyPv5UQfXWm7N56MoSevWJ/A",
      "include_colab_link": true
    },
    "kernelspec": {
      "name": "python3",
      "display_name": "Python 3"
    },
    "language_info": {
      "name": "python"
    }
  },
  "cells": [
    {
      "cell_type": "markdown",
      "metadata": {
        "id": "view-in-github",
        "colab_type": "text"
      },
      "source": [
        "<a href=\"https://colab.research.google.com/github/janastadtruckerova/Python-for-data-visualisation/blob/main/receipts.ipynb\" target=\"_parent\"><img src=\"https://colab.research.google.com/assets/colab-badge.svg\" alt=\"Open In Colab\"/></a>"
      ]
    },
    {
      "cell_type": "markdown",
      "source": [
        "**Receipts for Lovely Loveseats**\n",
        "\n",
        "In this project, we will be storing the names and prices of a furniture store’s catalog in variables. You will then process the total price and item list of customers, printing them to the output terminal."
      ],
      "metadata": {
        "id": "3S44QfvKITJL"
      }
    },
    {
      "cell_type": "markdown",
      "source": [
        "*Adding In The Catalog*"
      ],
      "metadata": {
        "id": "WSK4XrsKJH_G"
      }
    },
    {
      "cell_type": "code",
      "source": [
        "lovely_loveseat_description = \"Lovely Loveseat. Tufted polyester blend on wood. 32 inches high x 40 inches wide x 30 inches deep. Red or white.\"\n",
        "lovely_loveseat_price = 254.00\n",
        "stylysh_settee_description = \"Stylish Settee. Faux leather on birch. 29.50 inches high x 54.75 inches wide x 28 inches deep. Black.\"\n",
        "stylish_settee_price = 100.50\n",
        "luxurious_lamp_description = \"Luxurious Lamp. Glass and iron. 36 inches tall. Brown with cream shade.\"\n",
        "luxurious_lamp_price = 52.15\n",
        "sales_tax = 0.088"
      ],
      "metadata": {
        "id": "HmqhHcOaJSUS"
      },
      "execution_count": null,
      "outputs": []
    },
    {
      "cell_type": "markdown",
      "source": [
        "Our first customer"
      ],
      "metadata": {
        "id": "lgyQ2fR1MOW2"
      }
    },
    {
      "cell_type": "code",
      "source": [
        "customer_one_total = 0\n",
        "customer_one_itemization = \"\"\n",
        "customer_one_total += lovely_loveseat_price\n",
        "customer_one_itemization += lovely_loveseat_description\n",
        "customer_one_total += luxurious_lamp_price\n",
        "customer_one_itemization += luxurious_lamp_description\n",
        "customer_one_tax = customer_one_total * sales_tax\n",
        "customer_one_total = customer_one_tax\n",
        "print(\"Customer One Intems:\")\n",
        "print(customer_one_itemization)\n",
        "print(\"Coustomer One Total:\")\n",
        "\n",
        "\n",
        "\n",
        "\n",
        "\n",
        "\n",
        "\n",
        "\n",
        "\n"
      ],
      "metadata": {
        "colab": {
          "base_uri": "https://localhost:8080/"
        },
        "id": "FcP1l5n8MSOQ",
        "outputId": "3d23f87a-629d-40a3-dc69-a4e8d0c1c5ab"
      },
      "execution_count": null,
      "outputs": [
        {
          "output_type": "stream",
          "name": "stdout",
          "text": [
            "Customer One Intems:\n",
            "Lovely Loveseat. Tufted polyester blend on wood. 32 inches high x 40 inches wide x 30 inches deep. Red or white.Luxurious Lamp. Glass and iron. 36 inches tall. Brown with cream shade.\n",
            "Coustomer One Total:\n"
          ]
        }
      ]
    }
  ]
}