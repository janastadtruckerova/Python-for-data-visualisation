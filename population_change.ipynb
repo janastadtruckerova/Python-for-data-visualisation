{
  "nbformat": 4,
  "nbformat_minor": 0,
  "metadata": {
    "colab": {
      "name": "population change.ipynb",
      "provenance": [],
      "authorship_tag": "ABX9TyMckhGF3bgcDBfIDt1886zS",
      "include_colab_link": true
    },
    "kernelspec": {
      "name": "python3",
      "display_name": "Python 3"
    },
    "language_info": {
      "name": "python"
    }
  },
  "cells": [
    {
      "cell_type": "markdown",
      "metadata": {
        "id": "view-in-github",
        "colab_type": "text"
      },
      "source": [
        "<a href=\"https://colab.research.google.com/github/janastadtruckerova/Python-for-data-visualisation/blob/main/population_change.ipynb\" target=\"_parent\"><img src=\"https://colab.research.google.com/assets/colab-badge.svg\" alt=\"Open In Colab\"/></a>"
      ]
    },
    {
      "cell_type": "markdown",
      "source": [
        "**Calculating Population Change Over Time**\n",
        "\n",
        "You work at the UN in urban planning and are interested in tracking population growth across major metropolitan regions. You are hoping that by looking at historical population numbers that you can predict future growth and help your team make decisions about resourcing.\n",
        "*Task:*\n",
        " to calculate the population growth of Istanbul.\n"
      ],
      "metadata": {
        "id": "qjshZk9RKqfU"
      }
    },
    {
      "cell_type": "markdown",
      "source": [
        "**Creating variables**\n",
        "\n",
        "Istanbul is the largest city in Turkey and the fifth largest city in the world. It has experienced enormous growth over the past 50 years and is one of the world’s 10 fastest growing metropolitan areas.\n",
        "\n",
        "While the program that we will write can be used with data from any city, we’ll start by using data from Istanbul and saving our data to variables. Using variables will allow us to swap out the data in the future.\n",
        "\n",
        "The following chart is an abbreviated list of the population size by year in Istanbul. Take a moment to read over the data — you will need to refer back to this chart as you complete certain tasks.\n",
        "Year\t Population\n",
        "1927\t 691000\n",
        "1950\t 983000\n",
        "2000\t 8831800\n",
        "2017\t 15029231\n"
      ],
      "metadata": {
        "id": "jwV3uhmRLLwm"
      }
    },
    {
      "cell_type": "code",
      "source": [
        "city_name = \"Istambul, Turkey\"\n",
        "pop_1927 = 691000\n",
        "pop_2017 = 15029231\n"
      ],
      "metadata": {
        "id": "6-_gBGxjMx2V"
      },
      "execution_count": 1,
      "outputs": []
    },
    {
      "cell_type": "markdown",
      "source": [
        "**Using Variables to Perform Calculations**\n",
        "\n",
        "Using the variables that we just created, we’re going to write a script that allows us to calculate the annual percentage growth rate. The annual percentage growth rate is the amount in which the population changes each year during a certain period."
      ],
      "metadata": {
        "id": "l9xFpuYpP4GA"
      }
    },
    {
      "cell_type": "code",
      "source": [
        "pop_change = pop_2017 - pop_1927\n",
        "percentage_gr = (pop_change/pop_1927) * 100\n",
        "annual_gr = percentage_gr/(2017 - 1927)\n"
      ],
      "metadata": {
        "id": "2TZLqbnpQPtS"
      },
      "execution_count": 2,
      "outputs": []
    },
    {
      "cell_type": "markdown",
      "source": [
        "**Writing function population_growth**"
      ],
      "metadata": {
        "id": "x3WG-3GnSegT"
      }
    },
    {
      "cell_type": "code",
      "source": [
        "def population_growth(year_one, year_two, population_one, population_two):\n",
        "  pop_change = population_two - population_one\n",
        "  percentage_gr = (pop_change / population_one) * 100\n",
        "  growth_rate = percentage_gr/(year_two - year_one)\n",
        "  return growth_rate\n",
        "  "
      ],
      "metadata": {
        "id": "gKOjGck9Sorp"
      },
      "execution_count": 3,
      "outputs": []
    },
    {
      "cell_type": "markdown",
      "source": [
        "**Calling function**"
      ],
      "metadata": {
        "id": "HrculYsqT3LP"
      }
    },
    {
      "cell_type": "code",
      "source": [
        "print(annual_gr)\n",
        "set_one = population_growth(1927, 2017, 691000, 15029231)\n",
        "set_two = population_growth(1950, 2000, 983000, 8831800)\n",
        "print(set_one)\n",
        "print(set_two)"
      ],
      "metadata": {
        "id": "8SHt0ByNT820",
        "colab": {
          "base_uri": "https://localhost:8080/"
        },
        "outputId": "320e92fe-7fc8-4c05-d7b0-33642d26ef15"
      },
      "execution_count": 4,
      "outputs": [
        {
          "output_type": "stream",
          "name": "stdout",
          "text": [
            "23.055525004019934\n",
            "23.055525004019934\n",
            "15.969074262461852\n"
          ]
        }
      ]
    }
  ]
}